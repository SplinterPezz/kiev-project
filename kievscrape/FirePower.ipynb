{
 "cells": [
  {
   "cell_type": "code",
   "execution_count": null,
   "metadata": {},
   "outputs": [],
   "source": [
    "import requests\n",
    "from bs4 import BeautifulSoup\n",
    "\n",
    "# mainUrl = \"https://kyivindependent.com/news-archive/page/\"\n",
    "url = \"https://www.globalfirepower.com/countries-comparison-detail.php?country1=ukraine&country2=russia\"\n",
    "\n",
    "payload={}\n",
    "headers = {\n",
    "  'authority': 'www.globalfirepower.com',\n",
    "  'cache-control': 'max-age=0',\n",
    "  'sec-ch-ua': '\" Not A;Brand\";v=\"99\", \"Chromium\";v=\"99\", \"Google Chrome\";v=\"99\"',\n",
    "  'sec-ch-ua-mobile': '?0',\n",
    "  'sec-ch-ua-platform': '\"macOS\"',\n",
    "  'upgrade-insecure-requests': '1',\n",
    "  'user-agent': 'Mozilla/5.0 (Macintosh; Intel Mac OS X 10_15_7) AppleWebKit/537.36 (KHTML, like Gecko) Chrome/99.0.4844.83 Safari/537.36',\n",
    "  'accept': 'text/html,application/xhtml+xml,application/xml;q=0.9,image/avif,image/webp,image/apng,*/*;q=0.8,application/signed-exchange;v=b3;q=0.9',\n",
    "  'sec-fetch-site': 'none',\n",
    "  'sec-fetch-mode': 'navigate',\n",
    "  'sec-fetch-user': '?1',\n",
    "  'sec-fetch-dest': 'document',\n",
    "  'accept-language': 'it,it-IT;q=0.9,en-GB;q=0.8,en;q=0.7,es-ES;q=0.6,es;q=0.5,pl-PL;q=0.4,pl;q=0.3,de-DE;q=0.2,de;q=0.1',\n",
    "  'cookie': '_gid=GA1.2.609447567.1648487801; _ga_TXJ5P6EMGK=GS1.1.1648487800.1.1.1648489498.0; _ga=GA1.2.1052545482.1648487801'\n",
    "}\n",
    "\n",
    "firstPageResponse = requests.request(\"GET\", url, headers=headers, data=payload)\n",
    "soupFirstPage = BeautifulSoup(firstPageResponse.text, 'html5lib')\n",
    "\n"
   ]
  },
  {
   "cell_type": "code",
   "execution_count": null,
   "metadata": {},
   "outputs": [],
   "source": [
    "#pip install requests\n",
    "#pip install bs4\n",
    "#pip install spacy\n",
    "#pip install pymongo\n",
    "#pip install html5lib\n",
    "#pip install spacy download https://github.com/explosion/spacy-models/releases/download/en_core_web_sm-3.2.0/en_core_web_sm-3.2.0.tar.gz\n",
    "#pip instal gensim\n",
    "#pip install word2number\n",
    "#pip install inflect\n",
    "#pip install PyPDF2"
   ]
  },
  {
   "cell_type": "code",
   "execution_count": null,
   "metadata": {},
   "outputs": [
    {
     "name": "stdout",
     "output_type": "stream",
     "text": [
      "{'COUNTRIES': {}, 'MANPOWER': {'Total Population (Rnk 34)': '43,745,640', 'Available Manpower (Rnk 29)': '22,310,276', 'Fit-for-Service (Rnk 32)': '15,617,193', 'Reaching Mil. Age Annually (Rnk 48)': '481,202', 'Active Personnel (Rnk 20)': '200,000', 'Reserve Personnel (Rnk 15)': '250,000', 'Paramilitary Forces (Rnk 27)': '50,000'}, 'FINANCIALS': {'Defense Budget (Rnk 20)': '$11,870,000,000', 'External Debt (Rnk 94)': '$117,410,000,000', 'Foreign Reserve (Rnk 59)': '$18,810,000,000', 'Purchasing Power (Rnk 38)': '$515,000,000,000'}, 'AIRPOWER': {'Total Aircraft (Rnk 31)': '318', 'Fighter Aircraft (Rnk 32)': '69', 'Dedicated Attack (Rnk 17)': '29', 'Transports (Rnk 22)': '32', 'Trainers (Rnk 34)': '71', 'Special-Mission (Rnk 27)': '5', 'Helicopters (Rnk 34)': '112', 'Attack Helicopters (Rnk 18)': '34'}, 'LAND POWER': {'Tank Strength (Rnk 13)': '2,596', 'Armored Vehicles (Rnk 6)': '12,303', 'Self-Propelled Artillery (Rnk 6)': '1,067', 'Towed Artillery (Rnk 7)': '2,040', 'Mobile Rocket Projectors (Rnk 12)': '490'}, 'NAVAL POWER': {'Fleet Strength (Rnk 53)': '38', 'Aircraft Carriers (Rnk 140)': '0', 'Helo Carriers (Rnk 140)': '0', 'Submarines (Rnk 140)': '0', 'Destroyers (Rnk 140)': '0', 'Frigates (Rnk 16)': '1', 'Corvettes (Rnk 15)': '1', 'Patrol Vessels (Rnk 45)': '13', 'Mine Warfare (Rnk 21)': '1'}, 'LOGISTICS': {'Airports (Rnk 30)': '187', 'Merchant Marine (Rnk 38)': '409', 'Ports & Terminals (Rnk 15)': '6', 'Labor Force (Rnk 32)': '17,990,000', 'Roadways (Rnk 32)': '169,694km', 'Roadways (Rnk 12)': '21,733km'}, 'RESOURCES (OIL)': {'Oil Production (Rnk 47)': '32,000bbl', 'Oil Consumption (Rnk 69)': '233,000bbl', 'Proven Reserves (Rnk 46)': '395,000,000bbl'}, 'GEOGRAPHY': {'Square Land Area (Rnk 45)': '603,550km', 'Shared Border (Rnk 99)': '5,618km', 'Coastline (Rnk 70)': '2,782km', 'Waterways (Rnk 43)': '2,150km'}}\n"
     ]
    }
   ],
   "source": [
    "test = soupFirstPage.findAll('div',{\"class\":\"contentStripInner\"})\n",
    "categories = []\n",
    "\n",
    "#clean empty elements from array\n",
    "def clean_list(array):\n",
    "   newArray = []\n",
    "   newArray =  list(filter(None, array))\n",
    "   return newArray\n",
    "\n",
    "def filter_page(side, page):\n",
    "   country = []\n",
    "   arrayPrimary = {}\n",
    "   arrayFinal = {}\n",
    "   tmp= []\n",
    "   if(side == \"left\"):\n",
    "      sideClass = \"country1left\"\n",
    "      countryClass = \"countryColor1\"\n",
    "   else:\n",
    "      sideClass = \"country2right\"\n",
    "      countryClass = \"countryColor2\"\n",
    "\n",
    "   for any in page:\n",
    "      country.append(any.find('span',{\"class\":countryClass}))\n",
    "      tmp = any.findAll('span',{\"class\":\"textBold textWhite textLarger\"})\n",
    "      if(len(tmp)>0):\n",
    "         arrayPrimary[tmp[0].text] = []\n",
    "         arrayPrimary[tmp[0].text].append(any.findAll('div',{\"class\":sideClass}))\n",
    "\n",
    "   for any in arrayPrimary:\n",
    "      arrayFinal[any] = {}\n",
    "      for i in arrayPrimary[any][0]:\n",
    "         subCat = i.find('span',{\"class\":\"textBold textLarge\"})\n",
    "         if(subCat!=None):\n",
    "            arrayFinal[any][subCat.text] = i.findAll('span',{\"class\":\"textLarge\"})[1].text\n",
    "\n",
    "   country = (cleanList(country)[0].text)\n",
    "   return arrayFinal\n",
    "\n",
    "\n",
    "\n",
    "# for i in range(1,3):\n",
    "#    print(\"val %d \" %(i))\n",
    "#    print(\"val {}\".format(i))\n",
    "#    print(\"val \" + str(i))\n",
    "\n",
    "for any in test:\n",
    "   categories.append(any.findAll('span',{\"class\":\"textBold textWhite textLarger\"}))\n",
    "\n",
    "categories = clean_list(categories)\n",
    "resLeft = filter_page(\"left\", test)\n",
    "#resRight = filterPage(\"right\", test)\n",
    "\n",
    "\n",
    "\n",
    "# print(cleanList(resLeft))\n",
    "\n",
    "# for any in categories:\n",
    "#    print(any[0].text)\n",
    "\n"
   ]
  }
 ],
 "metadata": {
  "interpreter": {
   "hash": "31f2aee4e71d21fbe5cf8b01ff0e069b9275f58929596ceb00d14d90e3e16cd6"
  },
  "kernelspec": {
   "display_name": "Python 3.8.9 64-bit",
   "language": "python",
   "name": "python3"
  },
  "language_info": {
   "codemirror_mode": {
    "name": "ipython",
    "version": 3
   },
   "file_extension": ".py",
   "mimetype": "text/x-python",
   "name": "python",
   "nbconvert_exporter": "python",
   "pygments_lexer": "ipython3",
   "version": "3.10.4"
  },
  "orig_nbformat": 4
 },
 "nbformat": 4,
 "nbformat_minor": 2
}
